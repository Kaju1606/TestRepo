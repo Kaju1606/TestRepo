{
 "cells": [
  {
   "cell_type": "markdown",
   "id": "ddcdf0c9-bb65-4b78-a872-482bea2ec6ff",
   "metadata": {},
   "source": [
    "# Data Science Tools and Ecosystem"
   ]
  },
  {
   "cell_type": "markdown",
   "id": "d2c07565-d3c8-49c2-9328-8b7d791f40d7",
   "metadata": {},
   "source": [
    "In this notebook, Data Science Tools and Ecosystem are summarized."
   ]
  },
  {
   "cell_type": "markdown",
   "id": "e0b43c40-ef84-4ae2-9acb-bbc18f1aeb8e",
   "metadata": {},
   "source": [
    "Some of the popular languages that Data Scientists use are:\n",
    "\n",
    "1. Python  \n",
    "2. R  \n",
    "3. SQL  \n",
    "4. Julia  \n",
    "5. Scala\n"
   ]
  },
  {
   "cell_type": "markdown",
   "id": "f63dd456-f2a4-4b59-9ae4-e069f94bf222",
   "metadata": {},
   "source": [
    "Some of the commonly used libraries used by Data Scientists include:\n",
    "\n",
    "1. **NumPy** – for numerical computations and handling arrays.\n",
    "2. **Pandas** – for data manipulation and analysis.\n",
    "3. **Matplotlib** – for data visualization.\n",
    "4. **Scikit-learn** – for machine learning algorithms and model building.\n",
    "5. **TensorFlow** – for deep learning and neural networks.\n"
   ]
  },
  {
   "cell_type": "markdown",
   "id": "f904f860-7fbd-4cf8-ab76-24c8aeb6b958",
   "metadata": {},
   "source": [
    "| Data Science Tools        |\n",
    "|---------------------------|\n",
    "| Jupyter Notebook          |\n",
    "| RStudio                   |\n",
    "| VS Code                   |\n"
   ]
  },
  {
   "cell_type": "markdown",
   "id": "7a826bb2-ab49-4f1e-86c6-9bef87fb4b78",
   "metadata": {},
   "source": [
    "### Below are a few examples of evaluating arithmetic expressions in Python.\n"
   ]
  },
  {
   "cell_type": "code",
   "execution_count": 23,
   "id": "efb1e588-0f3e-472b-a5ae-f3c2f7259def",
   "metadata": {},
   "outputs": [
    {
     "data": {
      "text/plain": [
       "17"
      ]
     },
     "execution_count": 23,
     "metadata": {},
     "output_type": "execute_result"
    }
   ],
   "source": [
    "# This is a simple arithmetic expression to multiply then add integers\n",
    "(3 * 4) + 5"
   ]
  },
  {
   "cell_type": "code",
   "execution_count": 25,
   "id": "53dd1703-0565-4282-a7c5-a3e8d3a86b67",
   "metadata": {},
   "outputs": [
    {
     "data": {
      "text/plain": [
       "3.3333333333333335"
      ]
     },
     "execution_count": 25,
     "metadata": {},
     "output_type": "execute_result"
    }
   ],
   "source": [
    "# This will convert 200 minutes to hours by dividing by 60\n",
    "200 / 60\n"
   ]
  },
  {
   "cell_type": "markdown",
   "id": "f047efe0-d1fe-4924-b712-fe833582184f",
   "metadata": {},
   "source": [
    "**Objectives:**\n",
    "\n",
    "- List popular languages for Data Science  \n",
    "- Identify commonly used Data Science tools  \n",
    "- Create Markdown cells with headings, lists, and tables  \n",
    "- Write and evaluate simple arithmetic expressions in code cells  \n",
    "- Understand the basics of Jupyter Notebooks\n"
   ]
  },
  {
   "cell_type": "markdown",
   "id": "9e1c0762-dfc8-4bc0-a9c2-1a3d88ec36a5",
   "metadata": {},
   "source": [
    "## Author  \n",
    "Kajal\n"
   ]
  },
  {
   "cell_type": "code",
   "execution_count": null,
   "id": "c3c57509-b485-4b76-909d-02d1502295c0",
   "metadata": {},
   "outputs": [],
   "source": []
  }
 ],
 "metadata": {
  "kernelspec": {
   "display_name": "Python [conda env:base] *",
   "language": "python",
   "name": "conda-base-py"
  },
  "language_info": {
   "codemirror_mode": {
    "name": "ipython",
    "version": 3
   },
   "file_extension": ".py",
   "mimetype": "text/x-python",
   "name": "python",
   "nbconvert_exporter": "python",
   "pygments_lexer": "ipython3",
   "version": "3.12.7"
  }
 },
 "nbformat": 4,
 "nbformat_minor": 5
}
